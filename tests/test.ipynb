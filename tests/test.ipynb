{
 "cells": [
  {
   "cell_type": "code",
   "execution_count": null,
   "id": "initial_id",
   "metadata": {
    "collapsed": true,
    "is_executing": true
   },
   "outputs": [],
   "source": [
    "ls= {'文件名': {'0': '3-1 备份恢复：中国移动通信集团吉林有限公司数据安全事件应急响应预案.docx', '1': '4-1 漏扫：系统渗透测试漏洞报告(经营分析系统).docx'}, '材料型': {'0': '用户上传', '1': '用户上传'}}"
   ]
  },
  {
   "cell_type": "code",
   "execution_count": 1,
   "outputs": [],
   "source": [
    "import pandas as pd\n",
    "data = pd.DataFrame([], columns=[\"文件名\", \"材料类型\"])"
   ],
   "metadata": {
    "collapsed": false,
    "ExecuteTime": {
     "end_time": "2025-09-02T09:55:36.940185600Z",
     "start_time": "2025-09-02T09:55:36.233897100Z"
    }
   },
   "id": "1203d5b9443e33a8"
  },
  {
   "cell_type": "code",
   "execution_count": 5,
   "outputs": [
    {
     "data": {
      "text/plain": "[]"
     },
     "execution_count": 5,
     "metadata": {},
     "output_type": "execute_result"
    }
   ],
   "source": [
    "data[\"文件名\"].values.tolist()"
   ],
   "metadata": {
    "collapsed": false,
    "ExecuteTime": {
     "end_time": "2025-09-02T09:55:54.985453300Z",
     "start_time": "2025-09-02T09:55:54.975663400Z"
    }
   },
   "id": "4db1da52e9ee109c"
  },
  {
   "cell_type": "code",
   "execution_count": 13,
   "outputs": [],
   "source": [
    "ls=[[{'jl_yangdanni': 54, 'jl_wangxi12': 15, 'jl_maojieling': 14, 'jl_liuchang10': 2, 'ji_wanghongpeng': 2,'jl_zhangyu52': 2, 'jl_renling': 1, 'jl_wangshuai4': 1, 'jl_duchao1': 1, 'jl_weikunming': 1, 'jl_zhangzhibin1': 1, 'jl_yanlei2': 1, 'jl_guojunnan': 1}, {'查询  充电桩选址_全场景': 26, '查询  充桩选址': 21, '查询  充电桩选址_商务楼宇': 14, '查询  充电桩选址_城区加油站': 12, '查询  充电桩选址_医院': 9, '查询  充电桩选址_大型商场': 7, '查询充电桩选址_公共停车场': 7}, {'2025-01-02': 1, '2025-01-03': 1, '2025-01-06': 1, '2025-01-09': 1, '2025-01-13': 1, '2025-01-17': 1, '2025-02-08': 2, '2025-02-10': 1, '2025-02-26': 1, '2025-03-06': 8, '2025-03-13': 38, '2025-03-14': 12, '2025-03-17': 1, '2025-03-18': 1, '2025-03-19': 1, '2025-03-25': 7, '2025-03-26': 1, '2025-03-30': 2, '2025-04-01': 3, '2025-04-25': 1, '2025-04-27': 1, '2025-04-29': 7, '2025-05-23': 2, '2025-05-27': 1}, {'查询  充电桩选址': {'ji_wanghongpeng': 1, 'jl_duchao1': 1, 'jl_guojunnan': 0, 'jl_liuchang10': 1, 'jl_maojieling': 4, 'jl_renling': 0, 'jl_wangshuai4': 0, 'jl_wangxi12': 3, 'jl_weikunming': 1, 'jl_yangdanni': 9, 'jl_yanlei2': 0, 'jl_zhangyu52': 1, 'jl_zhangzhibin1': 0}, '查询  充电桩选址_全场景': {'ji_wanghongpeng': 1, 'jl_duchao1': 0, 'jl_guojunnan': 1, 'jl_liuchang10': 1, 'jl_maojieling': 4, 'jl_renling': 1, 'jl_wangshuai4': 1, 'jl_wangxi12': 3, 'jl_weikunming': 0, 'jl_yangdanni': 12, 'jl_yanlei2': 0, 'jl_zhangyu52': 1, 'jl_zhangzhibin1': 1}, '查 询  充电桩选址_公共停车场': {'ji_wanghongpeng': 0, 'jl_duchao1': 0, 'jl_guojunnan': 0, 'jl_liuchang10': 0, 'jl_maojieling': 1, 'jl_renling': 0, 'jl_wangshuai4': 0, 'jl_wangxi12': 1, 'jl_weikunming': 0, 'jl_yangdanni': 5, 'jl_yanlei2': 0, 'jl_zhangyu52': 0, 'jl_zhangzhibin1': 0}, '查询  充电桩选址_医院': {'ji_wanghongpeng': 0, 'jl_duchao1': 0, 'jl_guojunnan': 0, 'jl_liuchang10': 0, 'jl_maojieling': 1, 'jl_renling': 0, 'jl_wangshuai4': 0, 'jl_wangxi12': 2, 'jl_weikunming': 0, 'jl_yangdanni': 6, 'jl_yanlei2': 0, 'jl_zhangyu52': 0, 'jl_zhangzhibin1': 0}, '查询  充电桩选址_商务楼宇': {'ji_wanghongpeng': 0, 'jl_duchao1': 0, 'jl_guojunnan': 0, 'jl_liuchang10': 0, 'jl_maojieling': 1, 'jl_renling': 0, 'jl_wangshuai4': 0, 'jl_wangxi12': 1, 'jl_weikunming': 0, 'jl_yangdanni': 12, 'jl_yanlei2': 0, 'jl_zhangyu52': 0, 'jl_zhangzhibin1': 0}, '查询  充电桩选址_城区加油站': {'ji_wanghongpeng': 0, 'jl_duchao1': 0, 'jl_guojunnan': 0, 'jl_liuchang10': 0, 'jl_maojieling': 2, 'jl_renling': 0, 'jl_wangshuai4': 0, 'jl_wangxi12': 4, 'jl_weikunming': 0, 'jl_yangdanni': 5, 'jl_yanlei2': 1, 'jl_zhangyu52': 0, 'jl_zhangzhibin1': 0}, '查询  充电桩选址_大型场': {'ji_wanghongpeng': 0, 'jl_duchao1': 0, 'jl_guojunnan': 0, 'jl_liuchang10': 0, 'jl_maojieling': 1, 'jl_renling': 0,'jl_wangshuai4': 0, 'jl_wangxi12': 1, 'jl_weiikunming': 0, 'jl_yangdanni': 5, 'jl_yanlei2': 0, 'jl_zhangyu52': 0, 'jl_zhangzhibin1': 0}}, {'2025-01-02': {'ji_wanghongpeng': 0, 'jl_duchao1': 0, 'jl_guojunnan': 0, 'jl_liuchang10': 0, 'jl_maojieling': 0, 'jl_renling': 0, 'jl_wangshuai4': 0, 'jl_wangxi12': 0, 'jl_weikunming': 0, 'jl_yangdanni': 1, 'jl_yanlei2': 0, 'jl_zhangyu52': 0, 'jl_zhangzhibin1': 0}, '2025-01-03': {'ji_wanghongpeng': 0, 'jl_duchao1': 0, 'jl_guojunnan': 1, 'jl_liuchang10': 0, 'jl_maojieling': 0, 'jl_renling': 0, 'jl_wangshuai4': 0, 'jl_wangxi12': 0, 'jl_weikunming': 0, 'jl_yangdanni': 0, 'jl_yanlei2': 0, 'jl_zhangyu52': 0, 'jl_zhangzhibin1': 0}, '2025-01-06': {'ji_wanghongpeng': 0, 'jl_duchao1': 0, 'jl_guojunnan': 0, 'jl_liuchang10': 0, 'jl_maojieling': 0, 'jl_renling': 0, 'jl_wangshuai4': 0, 'jl_wangxi12': 0, 'jl_weikunming': 0, 'jl_yangdanni': 0, 'jl_yanlei2': 1, 'jl_zhangyu52': 0, 'jl_zhangzhibin1': 0}, '2025-01-09': {'ji_wanghongpeng': 0, 'jl_duchao1': 0, 'jl_guojunnan': 0, 'jl_liuchang10': 0, 'jl_maojieling': 1, 'jl_renling': 0, 'jl_wangshuai4': 0, 'jl_wangxi12': 0, 'jl_weikunming': 0, 'jl_yangdanni': 0, 'jl_yanlei2': 0, 'jl_zhangyu52': 0, 'jl_zhangzhibin1': 0}, '2025-01-13': {'ji_wanghongpeng': 0, 'jl_duchao1': 0, 'jl_guojunnan': 0, 'jl_liuchang10': 0, 'jl_maojieling': 0, 'jl_renling': 0, 'jl_wangshuai4': 0, 'jl_wangxi12': 0, 'jl_weikunming': 0, 'jl_yangdanni': 0, 'jl_yanlei2': 0, 'jl_zhangyu52': 0, 'jl_zhangzhibin1': 1}, '2025-01-17': {'ji_wanghongpeng': 0, 'jl_duchao1': 0,'jl_guojunnan': 0, 'jl_liuchang10': 0, 'jl_maojieling': 0, 'jl_renling': 0, 'jl_wangshuai4': 0, 'jl_wangxi12': 0, 'jl_weikunming': 1, 'jl_yangdanni': 0, 'jl_yanlei2': 0, 'jl_zhangyu52': 0, 'jl_zhangzhibin1': 0}, '2025-02-08': {'ji_wanghongpeng': 0, 'jl_duchao1': 0, 'jl_guojunnan': 0, 'jl_liuchang10': 0, 'jl_maojieling': 0, 'jl_renling': 0, 'jl_wangshuai4': 0, 'jl_wangxi12': 0, 'jl_weikunming': 0, 'jl_yangdanni': 0, 'jl_yanlei2': 0, 'jl_zhangyu52': 2, 'jl_zhangzhibin1': 0}, '2025-02-10':{'ji_wanghongpeng': 0, 'jl_duchao1': 1, 'jl_guojunnan': 0, 'jl_liuchang10': 0, 'jl_maojieling': 0, 'jl_renling': 0, 'jl_wangshuai4': 0, 'jl_wangxi12': 0, 'jl_weikunming': 0, 'jl_yangdanni': 0, 'jl_yanlei2': 0, 'jl_zhangyu52': 0, 'jl_zhangzhibin1': 0}, '2025-02-26':{'ji_wanghongpeng': 0, 'jl_duchao1': 0, 'jl_guojunnan': 0, 'jl_liuchang10': 0, 'jl_maojieling': 0, 'jl_renling': 0, 'jl_wangshuai4': 0, 'jl_wangxi12': 0, 'jl_weikunming': 0, 'jl_yangdanni': 1, 'jl_yanlei2': 0, 'jl_zhangyu52':0, 'jl_zhangzhibin1': 0}, '2025-03-06': {'ji_wanghongpeng': 0, 'jl_duchao1': 0, 'jl_guojunnan': 0, 'jl_liuchang10': 0, 'jl_maojieling': 2, 'jl_renling': 0, 'jl_wangshuai4': 0, 'jl_wangxi12': 6, 'jl_weikunming': 0, 'jl_yangdanni': 0, 'jl_yanlei2': 0, 'jl_zhangyu52': 0, 'jl_zhangzhibin1': 0}, '2025-03-13': {'ji_wanghongpeng': 0, 'jl_duchao1': 0, 'jl_guojunnan': 0, 'jl_liuchang10': 0, 'jl_maojieling': 10, 'jl_renling': 0, 'jl_wangshuai4': 0, 'jl_wangxi12': 0, 'jl_weikunming': 0, 'jl_yangdanni': 28, 'jl_yanlei2': 0, 'jl_zhangyu52': 0, 'jl_zhangzhibin1': 0}, '2025-03-14': {'ji_wanghongpeng': 0, 'jl_duchao1': 0, 'jl_guojunnan': 0, 'jl_liuchang10': 0, 'jl_maojieling': 0, 'jl_renling': 0, 'jl_wangshuai4': 0, 'jl_wangxi12': 0, 'jl_weikunming': 0, 'jl_yangdanni': 12, 'jl_yanlei2': 0, 'jl_zhangyu52': 0, 'jl_zhangzhibin1': 0}, '2025-03-17': {'ji_wanghongpeng': 0, 'jl_duchao1': 0, 'jl_guojunnan': 0, 'jl_liuchang10': 0, 'jl_maojieling': 0, 'jl_renling': 0, 'jl_wangshuai4': 1, 'jl_wangxi12': 0, 'jl_weikunming': 0, 'jl_yangdanni': 0, 'jl_yanlei2': 0, 'jl_zhangyu52': 0, 'jl_zhangzhibin1': 0}, '2025-03-18': {'ji_wanghongpeng': 0, 'jl_duchao1': 0, 'jl_guojunnan': 0, 'jl_liuchang10': 0, 'jl_maojieling': 0, 'jl_renling': 0, 'jl_wangshuai4': 0, 'jl_wangxi12': 0, 'jl_weikunming': 0, 'jl_yangdanni': 1, 'jl_yanlei2': 0, 'jl_zhangyu52': 0, 'jl_zhangzhibin1': 0}, '2025-03-19': {'ji_wanghongpeng': 0, 'jl_duchao1': 0, 'jl_guojunnan': 0, 'jl_liuchang10': 0, 'jl_maojieling': 0, 'jl_renling': 0, 'jl_wangshuai4': 0, 'jl_wangxi12': 1, 'jl_weikunming': 0, 'jl_yangdanni': 0, 'jl_yanlei2': 0,'jl_zhangyu52': 0, 'jl_zhangzhibin1': 0}, '2025-03-25': {'ji_wanghongpeng': 0, 'jl_duchao1': 0, 'jl_guojunnan': 0,'jl_liuchang10': 0, 'jl_maojieling': 0, 'jl_renling': 0, 'jl_wangshuai4': 0, 'jl_wangxi12': 7, 'jl_weikunming': 0, 'jl_yangdanni': 0, 'jl_yanlei2': 0, 'jl_zhangyu52': 0, 'jl_zhangzhibin1': 0}, '2025-03-26': {'ji_wanghongpeng': 0,'jl_duchao1': 0, 'jl_guojunnan': 0, 'jl_liuchang10': 0, 'jl_maojieling': 0, 'jl_renling': 1, 'jl_wangshuai4': 0,'jl_wangxi12': 0, 'jl_weikunming': 0, 'jl_yangdanni': 0, 'jl_yanlei2': 0, 'jl_zhangyu52': 0, 'jl_zhangzhibin1': 0}, '2025-03-30': {'ji_wanghongpeng': 2, 'jl_duchao1': 0, 'jl_guojunnan': 0, 'jl_liuchang10': 0, 'jl_maojieling': 0, 'jl_renling': 0, 'jl_wangshuai4': 0, 'jl_wangxi12': 0, 'jl_weikunming': 0, 'jl_yangdanni': 0, 'jl_yanlei2': 0, 'jl_zhangyu52': 0, 'jl_zhangzhibin1': 0}, '2025-04-01': {'ji_wanghongpeng': 0, 'jl_duchao1': 0, 'jl_guojunnan': 0, 'jl_liuchang10': 0, 'jl_maojieling': 0, 'jl_renling': 0, 'jl_wangshuai4': 0, 'jl_wangxi12': 0, 'jl_weikunming': 0,'jl_yangdanni': 3, 'jl_yanlei2': 0, 'jl_zhangyu52': 0, 'jl_zhangzhibin1': 0}, '2025-04-25': {'ji_wanghongpeng': 0,'jl_duchao1': 0, 'jl_guojunnan': 0, 'jl_liuchang10': 0, 'jl_maojieling': 1, 'jl_renling': 0, 'jl_wangshuai4':0,'jl_wangxi12': 0, 'jl_weikunming': 0, 'jl_yangdanni': 0, 'jl_yanlei2': 0, 'jl_zhangyu52': 0, 'jl_zhangzhibin1': \n",
    "0}, '2025-04-27': {'ji_wanghongpeng': 0, 'jl_duchao1': 0, 'jl_guojunnan': 0, 'jl_liuchang10': 0, 'jl_maojieling': 0,'jl_renling': 0, 'jl_wangshuai4': 0, 'jl_wangxi12': 1, 'jl_weikunming': 0, 'jl_yangdanni': 0, 'jl_yanlei2': 0,'jl_zhangyu52': 0, 'jl_zhangzhibin1': 0}, '2025-04-29': {'ji_wanghongpeng': 0, 'jl_duchao1': 0, 'jl_guojunnan': 0, 'jl_liuchang10': 0, 'jl_maojieling': 0, 'jl_renling': 0, 'jl_wangshuai4': 0, 'jl_wangxi12': 0, 'jl_weikunming': 0, 'jl_yangdanni': 7, 'jl_yanlei2': 0, 'jl_zhangyu52': 0, 'jl_zhangzhibin1': 0}, '2025-05-23': {'ji_wanghongpeng': 0, 'jl_duchao1': 0, 'jl_guojunnan': 0, 'jl_liuchang10': 2, 'jl_maojieling': 0, 'jl_renling': 0, 'jl_wangshuai4': 0, 'jl_wangxi                     12': 0, 'jl_weikunming': 0, 'jl_yangdanni': 0, 'jl_yanlei2': 0, 'jl_zhangyu52': 0, 'jl_zhangzhibin1': 0},'2025-05-27': {'ji_wanghongpeng': 0, 'jl_duchao1': 0, 'jl_guojunnan': 0, 'jl_liuchang10': 0, 'jl_maojieling': 0, 'jl_renling': 0, 'jl_wangshuai4': 0, 'jl_wangxi12': 0, 'jl_weikunming': 0, 'jl_yangdanni': 1, 'jl_yanlei2': 0, 'jl_zhangyu52': 0, 'jl_zhangzhibin1': 0}}, {}, {}]]\n"
   ],
   "metadata": {
    "collapsed": false,
    "ExecuteTime": {
     "end_time": "2025-09-05T04:01:30.008457100Z",
     "start_time": "2025-09-05T04:01:29.992627300Z"
    }
   },
   "id": "293a53b8ec1f5859"
  },
  {
   "cell_type": "code",
   "execution_count": 15,
   "outputs": [
    {
     "data": {
      "text/plain": "6408"
     },
     "execution_count": 15,
     "metadata": {},
     "output_type": "execute_result"
    }
   ],
   "source": [
    "len(str(ls[0][4]))"
   ],
   "metadata": {
    "collapsed": false,
    "ExecuteTime": {
     "end_time": "2025-09-05T04:02:58.054904800Z",
     "start_time": "2025-09-05T04:02:58.032545200Z"
    }
   },
   "id": "700c2c35c0038d90"
  },
  {
   "cell_type": "code",
   "execution_count": 11,
   "outputs": [
    {
     "ename": "IndexError",
     "evalue": "list index out of range",
     "output_type": "error",
     "traceback": [
      "\u001B[1;31m---------------------------------------------------------------------------\u001B[0m",
      "\u001B[1;31mIndexError\u001B[0m                                Traceback (most recent call last)",
      "Cell \u001B[1;32mIn[11], line 1\u001B[0m\n\u001B[1;32m----> 1\u001B[0m \u001B[38;5;28mlen\u001B[39m(\u001B[43mls\u001B[49m\u001B[43m[\u001B[49m\u001B[38;5;241;43m0\u001B[39;49m\u001B[43m]\u001B[49m\u001B[43m[\u001B[49m\u001B[38;5;241;43m7\u001B[39;49m\u001B[43m]\u001B[49m)\n",
      "\u001B[1;31mIndexError\u001B[0m: list index out of range"
     ]
    }
   ],
   "source": [
    "len(ls[0][])\n"
   ],
   "metadata": {
    "collapsed": false,
    "ExecuteTime": {
     "end_time": "2025-09-05T03:46:29.812947Z",
     "start_time": "2025-09-05T03:46:29.058049600Z"
    }
   },
   "id": "f5fb6e5b03f61c22"
  },
  {
   "cell_type": "code",
   "execution_count": 10,
   "outputs": [],
   "source": [
    "ll=[]\n",
    "__=[[ll.append(d) for d in doc] for doc in ls]"
   ],
   "metadata": {
    "collapsed": false,
    "ExecuteTime": {
     "end_time": "2025-09-03T03:04:00.940982100Z",
     "start_time": "2025-09-03T03:04:00.925021200Z"
    }
   },
   "id": "908bd59871bda182"
  },
  {
   "cell_type": "code",
   "execution_count": 21,
   "outputs": [],
   "source": [
    "table_df = {'文件名': {'0': '4-1 漏扫：系统渗透测试漏洞报告(经营分析系统).docx'}, '材料类型': {'0': '用户上传'}}\n",
    "ZIP_DICT={\"ZipFileLoader\": [\".zip\", \".tar.gz\", \".7z\"]}"
   ],
   "metadata": {
    "collapsed": false,
    "ExecuteTime": {
     "end_time": "2025-09-04T02:10:38.078405900Z",
     "start_time": "2025-09-04T02:10:38.052783Z"
    }
   },
   "id": "e141ead81b5e605e"
  },
  {
   "cell_type": "code",
   "execution_count": 16,
   "outputs": [
    {
     "name": "stdout",
     "output_type": "stream",
     "text": [
      "4-1 漏扫：系统渗透测试漏洞报告(经营分析系统).docx\n"
     ]
    }
   ],
   "source": [
    "ls=[1,2,3]\n",
    "for unit in table_df[\"文件名\"].values():\n",
    "    if unit not in ls:\n",
    "        print(unit)"
   ],
   "metadata": {
    "collapsed": false,
    "ExecuteTime": {
     "end_time": "2025-09-03T03:14:40.762082500Z",
     "start_time": "2025-09-03T03:14:40.749893900Z"
    }
   },
   "id": "1a31fa8fbe02ff3b"
  },
  {
   "cell_type": "code",
   "execution_count": 17,
   "outputs": [],
   "source": [
    "ss=pd.DataFrame([], columns=[\"文件名\", \"材料类型\"])"
   ],
   "metadata": {
    "collapsed": false,
    "ExecuteTime": {
     "end_time": "2025-09-03T03:15:37.954841700Z",
     "start_time": "2025-09-03T03:15:37.913544900Z"
    }
   },
   "id": "f0c00363f8219a01"
  },
  {
   "cell_type": "code",
   "execution_count": 20,
   "outputs": [
    {
     "data": {
      "text/plain": "[]"
     },
     "execution_count": 20,
     "metadata": {},
     "output_type": "execute_result"
    }
   ],
   "source": [
    "ss[\"文件名\"].values.tolist()"
   ],
   "metadata": {
    "collapsed": false,
    "ExecuteTime": {
     "end_time": "2025-09-03T03:15:54.868402300Z",
     "start_time": "2025-09-03T03:15:54.852946300Z"
    }
   },
   "id": "a1cd8522403a620"
  },
  {
   "cell_type": "code",
   "execution_count": 23,
   "outputs": [
    {
     "data": {
      "text/plain": "[['.zip', '.tar.gz', '.7z'],\n {'0': '4-1 漏扫：系统渗透测试漏洞报告(经营分析系统).docx'},\n {'0': '用户上传'}]"
     },
     "execution_count": 23,
     "metadata": {},
     "output_type": "execute_result"
    }
   ],
   "source": [
    "list(ZIP_DICT.values())+list(table_df.values())"
   ],
   "metadata": {
    "collapsed": false,
    "ExecuteTime": {
     "end_time": "2025-09-04T02:11:10.974523200Z",
     "start_time": "2025-09-04T02:11:10.958673800Z"
    }
   },
   "id": "2d8e2e1f179d29f1"
  },
  {
   "cell_type": "code",
   "execution_count": 16,
   "outputs": [],
   "source": [
    "t=\"3, 6): {'jl_gumeijing': 0.0, 'jl_wangxi12': 172.0, 'jl_yangdanni': 323.0}, datetime.date(2025, 3, 7): {'jl_gumeijing': 0.0, 'jl_wangxi12': 0.0, 'jl_yangdanni': 275.\""
   ],
   "metadata": {
    "collapsed": false,
    "ExecuteTime": {
     "end_time": "2025-09-05T04:21:31.674690Z",
     "start_time": "2025-09-05T04:21:31.644614900Z"
    }
   },
   "id": "76d2f2c06f5a8cb8"
  },
  {
   "cell_type": "code",
   "execution_count": 17,
   "outputs": [
    {
     "data": {
      "text/plain": "164"
     },
     "execution_count": 17,
     "metadata": {},
     "output_type": "execute_result"
    }
   ],
   "source": [
    "len(t)"
   ],
   "metadata": {
    "collapsed": false,
    "ExecuteTime": {
     "end_time": "2025-09-05T04:21:34.194028500Z",
     "start_time": "2025-09-05T04:21:34.168970100Z"
    }
   },
   "id": "e72f40c86479b0c8"
  },
  {
   "cell_type": "code",
   "execution_count": 19,
   "outputs": [],
   "source": [
    "import pandas as pd\n",
    "log_data=pd.read_excel(r\"D:\\work\\中台\\中台安全运营工具\\test\\中台检查文档需求清单@充电桩场景精细化选址能力v1\\系统安全\\1-2 日志：4A登录日志(经营分析系统).xlsx\")\n",
    "log_data = log_data[['登录ID', '登录时间', '登出时间', '客户端浏览器']]\n",
    "\n",
    "# 确保登录时间和登出时间格式正确\n",
    "log_data['登录时间'] = pd.to_datetime(log_data['登录时间'], format='%Y%m%d%H%M%S', errors='coerce')\n",
    "log_data['登出时间'] = pd.to_datetime(log_data['登出时间'], format='%Y%m%d%H%M%S', errors='coerce')\n",
    "log_data = log_data.dropna(subset=['登录时间', '登出时间'])\n",
    "# 数据可视化：登录ID登录频率图\n",
    "login_counts = log_data['登录ID'].value_counts()[:30]\n",
    "\n",
    "\n",
    "# 按登录时间分类统计\n",
    "log_data['日期'] = log_data['登录时间'].dt.date\n",
    "daily_counts = log_data.groupby('日期').size()\n",
    "\n",
    "\n",
    "# 每个登录ID在一天之内的登录次数排序\n",
    "log_data = log_data[['登录ID', '登录时间']]\n",
    "\n",
    "# 确保登录时间格式正确\n",
    "log_data['登录时间'] = pd.to_datetime(log_data['登录时间'], format='%Y%m%d%H%M%S', errors='coerce')\n",
    "log_data = log_data.dropna(subset=['登录时间'])\n",
    "\n",
    "# 提取日期部分\n",
    "log_data['日期'] = log_data['登录时间'].dt.date\n",
    "\n",
    "# 按登录ID和日期分组，统计每个ID在每一天的登录次数\n",
    "daily_login_counts = log_data.groupby(['登录ID', '日期']).size().reset_index(name='登录次数')\n",
    "\n",
    "# 按登录次数降序排序\n",
    "sorted_daily_login_counts = daily_login_counts.sort_values(by='登录次数', ascending=False)\n",
    "pivot_table = sorted_daily_login_counts[:30].pivot(index='登录ID', columns='日期', values='登录次数')\n",
    "\n",
    "pivot_table.fillna(0, inplace=True)\n",
    "\n",
    "error_time = log_data[(log_data['登录时间'].dt.hour >= 0) & (log_data['登录时间'].dt.hour < 6)]\n",
    "error_daily_login_counts = error_time.groupby(['登录ID', '日期']).size().reset_index(name='登录次数')\n",
    "error_sorted_daily_login_counts = error_daily_login_counts.sort_values(by='登录次数', ascending=False)\n",
    "error_pivot_table = error_sorted_daily_login_counts[:30].pivot(index='登录ID', columns='日期', values='登录次数').fillna(0)\n",
    "\n",
    "error_login_counts = error_time['登录ID'].value_counts()"
   ],
   "metadata": {
    "collapsed": false,
    "ExecuteTime": {
     "end_time": "2025-09-05T04:56:07.073130Z",
     "start_time": "2025-09-05T04:55:42.823724900Z"
    }
   },
   "id": "97e652edc020fba7"
  },
  {
   "cell_type": "code",
   "execution_count": 22,
   "outputs": [],
   "source": [
    "error_pivot_table = error_sorted_daily_login_counts[:30].pivot(index='登录ID', columns='日期', values='登录次数').fillna(0)"
   ],
   "metadata": {
    "collapsed": false,
    "ExecuteTime": {
     "end_time": "2025-09-05T04:56:38.930402500Z",
     "start_time": "2025-09-05T04:56:38.898946100Z"
    }
   },
   "id": "14612bd1180c8a11"
  },
  {
   "cell_type": "code",
   "execution_count": 23,
   "outputs": [
    {
     "data": {
      "text/plain": "日期                2025-01-03  2025-01-04  2025-01-07  2025-01-10  2025-01-13  \\\n登录ID                                                                           \njl_baizhongjie           0.0         0.0         0.0         0.0         0.0   \njl_caochangke            0.0         0.0         0.0         0.0         0.0   \njl_dangxiaoxu            0.0         0.0         0.0         0.0         0.0   \njl_jiangzhiyong          0.0         0.0         0.0         0.0         0.0   \njl_jinwenqiang           0.0         0.0         0.0         0.0         0.0   \njl_jishuang              0.0         0.0         0.0         0.0         0.0   \njl_lijingtian            0.0         0.0         4.0         0.0         0.0   \njl_liuruihan5            0.0         0.0         0.0         0.0         5.0   \njl_liximing              0.0         0.0         0.0         0.0         0.0   \njl_liyang39              0.0         0.0         0.0         0.0         0.0   \njl_maojieling            0.0         0.0         0.0         0.0         0.0   \njl_mengxiangtong         0.0         0.0         0.0         0.0         0.0   \njl_songjianhua           0.0         0.0         0.0         0.0         0.0   \njl_sunjinghui            0.0         0.0         0.0         0.0         0.0   \njl_sunxiaomeng1          0.0         0.0         0.0         0.0         0.0   \njl_suqiang               0.0         3.0         0.0         0.0         0.0   \njl_yangdanni             4.0         0.0         0.0         0.0         0.0   \njl_yangxuefeng           0.0         0.0         0.0         6.0         0.0   \njl_zhangjidong1          0.0         0.0         0.0         0.0         0.0   \njl_zhanglin10            0.0         0.0         0.0         0.0         0.0   \njl_zhangshuang25         0.0         0.0         0.0         0.0         0.0   \njl_zhangxiuming          0.0         0.0         0.0         0.0         0.0   \njl_zhenglijia            0.0         0.0         0.0         0.0         0.0   \n\n日期                2025-01-16  2025-02-02  2025-02-05  2025-02-18  2025-02-21  \\\n登录ID                                                                           \njl_baizhongjie           0.0         0.0         0.0         0.0         0.0   \njl_caochangke            0.0         0.0         0.0         0.0         0.0   \njl_dangxiaoxu            0.0         0.0         0.0         0.0         0.0   \njl_jiangzhiyong          0.0         0.0         0.0         0.0         0.0   \njl_jinwenqiang           0.0         0.0         0.0         0.0         0.0   \njl_jishuang              0.0         0.0        13.0         0.0         0.0   \njl_lijingtian            0.0         0.0         0.0         0.0         0.0   \njl_liuruihan5            0.0         0.0         0.0         0.0         0.0   \njl_liximing              0.0         0.0         0.0         0.0         0.0   \njl_liyang39              0.0         0.0         0.0         0.0         0.0   \njl_maojieling            0.0         4.0         0.0         0.0         0.0   \njl_mengxiangtong         0.0         0.0         0.0         0.0         0.0   \njl_songjianhua           0.0         0.0         0.0         0.0         0.0   \njl_sunjinghui            0.0         0.0         0.0         0.0         0.0   \njl_sunxiaomeng1          0.0         0.0         0.0         0.0         0.0   \njl_suqiang               0.0         0.0         0.0         0.0         0.0   \njl_yangdanni             3.0         0.0         0.0         0.0         0.0   \njl_yangxuefeng           0.0         0.0         0.0         5.0         6.0   \njl_zhangjidong1          0.0         0.0         0.0         0.0         0.0   \njl_zhanglin10            0.0         0.0         0.0         0.0         0.0   \njl_zhangshuang25         0.0         0.0         0.0         0.0         0.0   \njl_zhangxiuming          0.0         0.0         0.0         0.0         0.0   \njl_zhenglijia            0.0         0.0         0.0         0.0         0.0   \n\n日期                ...  2025-04-08  2025-04-13  2025-04-15  2025-04-21  \\\n登录ID              ...                                                   \njl_baizhongjie    ...         0.0         0.0         0.0         0.0   \njl_caochangke     ...         0.0         0.0         0.0         0.0   \njl_dangxiaoxu     ...         0.0         0.0         4.0         0.0   \njl_jiangzhiyong   ...         0.0         0.0         0.0         0.0   \njl_jinwenqiang    ...         0.0         0.0         0.0         0.0   \njl_jishuang       ...         0.0         0.0         0.0         0.0   \njl_lijingtian     ...         0.0         0.0         0.0         0.0   \njl_liuruihan5     ...         0.0         0.0         0.0         0.0   \njl_liximing       ...         0.0         0.0         0.0         0.0   \njl_liyang39       ...         4.0         0.0         0.0         0.0   \njl_maojieling     ...         0.0         0.0         0.0         0.0   \njl_mengxiangtong  ...         0.0         0.0         0.0         0.0   \njl_songjianhua    ...         0.0         0.0         0.0         0.0   \njl_sunjinghui     ...         0.0         0.0         0.0         0.0   \njl_sunxiaomeng1   ...         6.0         0.0         0.0         0.0   \njl_suqiang        ...         0.0         0.0         0.0         0.0   \njl_yangdanni      ...         0.0         0.0         0.0         0.0   \njl_yangxuefeng    ...         0.0         0.0         0.0         0.0   \njl_zhangjidong1   ...         0.0         0.0         0.0         0.0   \njl_zhanglin10     ...         0.0         7.0         0.0         0.0   \njl_zhangshuang25  ...         0.0         0.0         0.0         0.0   \njl_zhangxiuming   ...         0.0         0.0         0.0         3.0   \njl_zhenglijia     ...         0.0         0.0         0.0         0.0   \n\n日期                2025-04-29  2025-05-03  2025-05-04  2025-05-05  2025-05-10  \\\n登录ID                                                                           \njl_baizhongjie           0.0         8.0         0.0         0.0         0.0   \njl_caochangke            0.0         0.0         0.0         0.0         0.0   \njl_dangxiaoxu            0.0         0.0         0.0         0.0         0.0   \njl_jiangzhiyong          0.0         0.0         0.0         0.0         0.0   \njl_jinwenqiang           0.0         0.0         0.0         0.0         0.0   \njl_jishuang              0.0         0.0         0.0         0.0         0.0   \njl_lijingtian            0.0         0.0         0.0         0.0         0.0   \njl_liuruihan5            0.0         0.0         0.0         0.0         0.0   \njl_liximing              0.0         0.0         0.0         0.0         0.0   \njl_liyang39              0.0         0.0         0.0         0.0         0.0   \njl_maojieling            0.0         0.0         0.0         0.0         0.0   \njl_mengxiangtong         0.0         0.0         0.0         0.0         0.0   \njl_songjianhua           0.0         0.0         0.0         0.0         0.0   \njl_sunjinghui            0.0         0.0         3.0         0.0         0.0   \njl_sunxiaomeng1          0.0         0.0         0.0         0.0         0.0   \njl_suqiang               0.0         0.0         0.0         0.0         0.0   \njl_yangdanni             0.0         0.0         0.0         0.0         0.0   \njl_yangxuefeng           5.0         0.0         0.0         5.0         0.0   \njl_zhangjidong1          0.0         0.0         0.0         0.0         4.0   \njl_zhanglin10            0.0         0.0         0.0         0.0         0.0   \njl_zhangshuang25         0.0         0.0         0.0         0.0         0.0   \njl_zhangxiuming          0.0         0.0         0.0         0.0         0.0   \njl_zhenglijia            0.0         0.0         0.0         0.0         0.0   \n\n日期                2025-05-17  \n登录ID                          \njl_baizhongjie           0.0  \njl_caochangke            0.0  \njl_dangxiaoxu            0.0  \njl_jiangzhiyong          0.0  \njl_jinwenqiang           0.0  \njl_jishuang              0.0  \njl_lijingtian            0.0  \njl_liuruihan5            0.0  \njl_liximing              0.0  \njl_liyang39              0.0  \njl_maojieling            0.0  \njl_mengxiangtong         0.0  \njl_songjianhua           0.0  \njl_sunjinghui            0.0  \njl_sunxiaomeng1          0.0  \njl_suqiang               0.0  \njl_yangdanni             3.0  \njl_yangxuefeng           0.0  \njl_zhangjidong1          0.0  \njl_zhanglin10            0.0  \njl_zhangshuang25         0.0  \njl_zhangxiuming          0.0  \njl_zhenglijia            0.0  \n\n[23 rows x 28 columns]",
      "text/html": "<div>\n<style scoped>\n    .dataframe tbody tr th:only-of-type {\n        vertical-align: middle;\n    }\n\n    .dataframe tbody tr th {\n        vertical-align: top;\n    }\n\n    .dataframe thead th {\n        text-align: right;\n    }\n</style>\n<table border=\"1\" class=\"dataframe\">\n  <thead>\n    <tr style=\"text-align: right;\">\n      <th>日期</th>\n      <th>2025-01-03</th>\n      <th>2025-01-04</th>\n      <th>2025-01-07</th>\n      <th>2025-01-10</th>\n      <th>2025-01-13</th>\n      <th>2025-01-16</th>\n      <th>2025-02-02</th>\n      <th>2025-02-05</th>\n      <th>2025-02-18</th>\n      <th>2025-02-21</th>\n      <th>...</th>\n      <th>2025-04-08</th>\n      <th>2025-04-13</th>\n      <th>2025-04-15</th>\n      <th>2025-04-21</th>\n      <th>2025-04-29</th>\n      <th>2025-05-03</th>\n      <th>2025-05-04</th>\n      <th>2025-05-05</th>\n      <th>2025-05-10</th>\n      <th>2025-05-17</th>\n    </tr>\n    <tr>\n      <th>登录ID</th>\n      <th></th>\n      <th></th>\n      <th></th>\n      <th></th>\n      <th></th>\n      <th></th>\n      <th></th>\n      <th></th>\n      <th></th>\n      <th></th>\n      <th></th>\n      <th></th>\n      <th></th>\n      <th></th>\n      <th></th>\n      <th></th>\n      <th></th>\n      <th></th>\n      <th></th>\n      <th></th>\n      <th></th>\n    </tr>\n  </thead>\n  <tbody>\n    <tr>\n      <th>jl_baizhongjie</th>\n      <td>0.0</td>\n      <td>0.0</td>\n      <td>0.0</td>\n      <td>0.0</td>\n      <td>0.0</td>\n      <td>0.0</td>\n      <td>0.0</td>\n      <td>0.0</td>\n      <td>0.0</td>\n      <td>0.0</td>\n      <td>...</td>\n      <td>0.0</td>\n      <td>0.0</td>\n      <td>0.0</td>\n      <td>0.0</td>\n      <td>0.0</td>\n      <td>8.0</td>\n      <td>0.0</td>\n      <td>0.0</td>\n      <td>0.0</td>\n      <td>0.0</td>\n    </tr>\n    <tr>\n      <th>jl_caochangke</th>\n      <td>0.0</td>\n      <td>0.0</td>\n      <td>0.0</td>\n      <td>0.0</td>\n      <td>0.0</td>\n      <td>0.0</td>\n      <td>0.0</td>\n      <td>0.0</td>\n      <td>0.0</td>\n      <td>0.0</td>\n      <td>...</td>\n      <td>0.0</td>\n      <td>0.0</td>\n      <td>0.0</td>\n      <td>0.0</td>\n      <td>0.0</td>\n      <td>0.0</td>\n      <td>0.0</td>\n      <td>0.0</td>\n      <td>0.0</td>\n      <td>0.0</td>\n    </tr>\n    <tr>\n      <th>jl_dangxiaoxu</th>\n      <td>0.0</td>\n      <td>0.0</td>\n      <td>0.0</td>\n      <td>0.0</td>\n      <td>0.0</td>\n      <td>0.0</td>\n      <td>0.0</td>\n      <td>0.0</td>\n      <td>0.0</td>\n      <td>0.0</td>\n      <td>...</td>\n      <td>0.0</td>\n      <td>0.0</td>\n      <td>4.0</td>\n      <td>0.0</td>\n      <td>0.0</td>\n      <td>0.0</td>\n      <td>0.0</td>\n      <td>0.0</td>\n      <td>0.0</td>\n      <td>0.0</td>\n    </tr>\n    <tr>\n      <th>jl_jiangzhiyong</th>\n      <td>0.0</td>\n      <td>0.0</td>\n      <td>0.0</td>\n      <td>0.0</td>\n      <td>0.0</td>\n      <td>0.0</td>\n      <td>0.0</td>\n      <td>0.0</td>\n      <td>0.0</td>\n      <td>0.0</td>\n      <td>...</td>\n      <td>0.0</td>\n      <td>0.0</td>\n      <td>0.0</td>\n      <td>0.0</td>\n      <td>0.0</td>\n      <td>0.0</td>\n      <td>0.0</td>\n      <td>0.0</td>\n      <td>0.0</td>\n      <td>0.0</td>\n    </tr>\n    <tr>\n      <th>jl_jinwenqiang</th>\n      <td>0.0</td>\n      <td>0.0</td>\n      <td>0.0</td>\n      <td>0.0</td>\n      <td>0.0</td>\n      <td>0.0</td>\n      <td>0.0</td>\n      <td>0.0</td>\n      <td>0.0</td>\n      <td>0.0</td>\n      <td>...</td>\n      <td>0.0</td>\n      <td>0.0</td>\n      <td>0.0</td>\n      <td>0.0</td>\n      <td>0.0</td>\n      <td>0.0</td>\n      <td>0.0</td>\n      <td>0.0</td>\n      <td>0.0</td>\n      <td>0.0</td>\n    </tr>\n    <tr>\n      <th>jl_jishuang</th>\n      <td>0.0</td>\n      <td>0.0</td>\n      <td>0.0</td>\n      <td>0.0</td>\n      <td>0.0</td>\n      <td>0.0</td>\n      <td>0.0</td>\n      <td>13.0</td>\n      <td>0.0</td>\n      <td>0.0</td>\n      <td>...</td>\n      <td>0.0</td>\n      <td>0.0</td>\n      <td>0.0</td>\n      <td>0.0</td>\n      <td>0.0</td>\n      <td>0.0</td>\n      <td>0.0</td>\n      <td>0.0</td>\n      <td>0.0</td>\n      <td>0.0</td>\n    </tr>\n    <tr>\n      <th>jl_lijingtian</th>\n      <td>0.0</td>\n      <td>0.0</td>\n      <td>4.0</td>\n      <td>0.0</td>\n      <td>0.0</td>\n      <td>0.0</td>\n      <td>0.0</td>\n      <td>0.0</td>\n      <td>0.0</td>\n      <td>0.0</td>\n      <td>...</td>\n      <td>0.0</td>\n      <td>0.0</td>\n      <td>0.0</td>\n      <td>0.0</td>\n      <td>0.0</td>\n      <td>0.0</td>\n      <td>0.0</td>\n      <td>0.0</td>\n      <td>0.0</td>\n      <td>0.0</td>\n    </tr>\n    <tr>\n      <th>jl_liuruihan5</th>\n      <td>0.0</td>\n      <td>0.0</td>\n      <td>0.0</td>\n      <td>0.0</td>\n      <td>5.0</td>\n      <td>0.0</td>\n      <td>0.0</td>\n      <td>0.0</td>\n      <td>0.0</td>\n      <td>0.0</td>\n      <td>...</td>\n      <td>0.0</td>\n      <td>0.0</td>\n      <td>0.0</td>\n      <td>0.0</td>\n      <td>0.0</td>\n      <td>0.0</td>\n      <td>0.0</td>\n      <td>0.0</td>\n      <td>0.0</td>\n      <td>0.0</td>\n    </tr>\n    <tr>\n      <th>jl_liximing</th>\n      <td>0.0</td>\n      <td>0.0</td>\n      <td>0.0</td>\n      <td>0.0</td>\n      <td>0.0</td>\n      <td>0.0</td>\n      <td>0.0</td>\n      <td>0.0</td>\n      <td>0.0</td>\n      <td>0.0</td>\n      <td>...</td>\n      <td>0.0</td>\n      <td>0.0</td>\n      <td>0.0</td>\n      <td>0.0</td>\n      <td>0.0</td>\n      <td>0.0</td>\n      <td>0.0</td>\n      <td>0.0</td>\n      <td>0.0</td>\n      <td>0.0</td>\n    </tr>\n    <tr>\n      <th>jl_liyang39</th>\n      <td>0.0</td>\n      <td>0.0</td>\n      <td>0.0</td>\n      <td>0.0</td>\n      <td>0.0</td>\n      <td>0.0</td>\n      <td>0.0</td>\n      <td>0.0</td>\n      <td>0.0</td>\n      <td>0.0</td>\n      <td>...</td>\n      <td>4.0</td>\n      <td>0.0</td>\n      <td>0.0</td>\n      <td>0.0</td>\n      <td>0.0</td>\n      <td>0.0</td>\n      <td>0.0</td>\n      <td>0.0</td>\n      <td>0.0</td>\n      <td>0.0</td>\n    </tr>\n    <tr>\n      <th>jl_maojieling</th>\n      <td>0.0</td>\n      <td>0.0</td>\n      <td>0.0</td>\n      <td>0.0</td>\n      <td>0.0</td>\n      <td>0.0</td>\n      <td>4.0</td>\n      <td>0.0</td>\n      <td>0.0</td>\n      <td>0.0</td>\n      <td>...</td>\n      <td>0.0</td>\n      <td>0.0</td>\n      <td>0.0</td>\n      <td>0.0</td>\n      <td>0.0</td>\n      <td>0.0</td>\n      <td>0.0</td>\n      <td>0.0</td>\n      <td>0.0</td>\n      <td>0.0</td>\n    </tr>\n    <tr>\n      <th>jl_mengxiangtong</th>\n      <td>0.0</td>\n      <td>0.0</td>\n      <td>0.0</td>\n      <td>0.0</td>\n      <td>0.0</td>\n      <td>0.0</td>\n      <td>0.0</td>\n      <td>0.0</td>\n      <td>0.0</td>\n      <td>0.0</td>\n      <td>...</td>\n      <td>0.0</td>\n      <td>0.0</td>\n      <td>0.0</td>\n      <td>0.0</td>\n      <td>0.0</td>\n      <td>0.0</td>\n      <td>0.0</td>\n      <td>0.0</td>\n      <td>0.0</td>\n      <td>0.0</td>\n    </tr>\n    <tr>\n      <th>jl_songjianhua</th>\n      <td>0.0</td>\n      <td>0.0</td>\n      <td>0.0</td>\n      <td>0.0</td>\n      <td>0.0</td>\n      <td>0.0</td>\n      <td>0.0</td>\n      <td>0.0</td>\n      <td>0.0</td>\n      <td>0.0</td>\n      <td>...</td>\n      <td>0.0</td>\n      <td>0.0</td>\n      <td>0.0</td>\n      <td>0.0</td>\n      <td>0.0</td>\n      <td>0.0</td>\n      <td>0.0</td>\n      <td>0.0</td>\n      <td>0.0</td>\n      <td>0.0</td>\n    </tr>\n    <tr>\n      <th>jl_sunjinghui</th>\n      <td>0.0</td>\n      <td>0.0</td>\n      <td>0.0</td>\n      <td>0.0</td>\n      <td>0.0</td>\n      <td>0.0</td>\n      <td>0.0</td>\n      <td>0.0</td>\n      <td>0.0</td>\n      <td>0.0</td>\n      <td>...</td>\n      <td>0.0</td>\n      <td>0.0</td>\n      <td>0.0</td>\n      <td>0.0</td>\n      <td>0.0</td>\n      <td>0.0</td>\n      <td>3.0</td>\n      <td>0.0</td>\n      <td>0.0</td>\n      <td>0.0</td>\n    </tr>\n    <tr>\n      <th>jl_sunxiaomeng1</th>\n      <td>0.0</td>\n      <td>0.0</td>\n      <td>0.0</td>\n      <td>0.0</td>\n      <td>0.0</td>\n      <td>0.0</td>\n      <td>0.0</td>\n      <td>0.0</td>\n      <td>0.0</td>\n      <td>0.0</td>\n      <td>...</td>\n      <td>6.0</td>\n      <td>0.0</td>\n      <td>0.0</td>\n      <td>0.0</td>\n      <td>0.0</td>\n      <td>0.0</td>\n      <td>0.0</td>\n      <td>0.0</td>\n      <td>0.0</td>\n      <td>0.0</td>\n    </tr>\n    <tr>\n      <th>jl_suqiang</th>\n      <td>0.0</td>\n      <td>3.0</td>\n      <td>0.0</td>\n      <td>0.0</td>\n      <td>0.0</td>\n      <td>0.0</td>\n      <td>0.0</td>\n      <td>0.0</td>\n      <td>0.0</td>\n      <td>0.0</td>\n      <td>...</td>\n      <td>0.0</td>\n      <td>0.0</td>\n      <td>0.0</td>\n      <td>0.0</td>\n      <td>0.0</td>\n      <td>0.0</td>\n      <td>0.0</td>\n      <td>0.0</td>\n      <td>0.0</td>\n      <td>0.0</td>\n    </tr>\n    <tr>\n      <th>jl_yangdanni</th>\n      <td>4.0</td>\n      <td>0.0</td>\n      <td>0.0</td>\n      <td>0.0</td>\n      <td>0.0</td>\n      <td>3.0</td>\n      <td>0.0</td>\n      <td>0.0</td>\n      <td>0.0</td>\n      <td>0.0</td>\n      <td>...</td>\n      <td>0.0</td>\n      <td>0.0</td>\n      <td>0.0</td>\n      <td>0.0</td>\n      <td>0.0</td>\n      <td>0.0</td>\n      <td>0.0</td>\n      <td>0.0</td>\n      <td>0.0</td>\n      <td>3.0</td>\n    </tr>\n    <tr>\n      <th>jl_yangxuefeng</th>\n      <td>0.0</td>\n      <td>0.0</td>\n      <td>0.0</td>\n      <td>6.0</td>\n      <td>0.0</td>\n      <td>0.0</td>\n      <td>0.0</td>\n      <td>0.0</td>\n      <td>5.0</td>\n      <td>6.0</td>\n      <td>...</td>\n      <td>0.0</td>\n      <td>0.0</td>\n      <td>0.0</td>\n      <td>0.0</td>\n      <td>5.0</td>\n      <td>0.0</td>\n      <td>0.0</td>\n      <td>5.0</td>\n      <td>0.0</td>\n      <td>0.0</td>\n    </tr>\n    <tr>\n      <th>jl_zhangjidong1</th>\n      <td>0.0</td>\n      <td>0.0</td>\n      <td>0.0</td>\n      <td>0.0</td>\n      <td>0.0</td>\n      <td>0.0</td>\n      <td>0.0</td>\n      <td>0.0</td>\n      <td>0.0</td>\n      <td>0.0</td>\n      <td>...</td>\n      <td>0.0</td>\n      <td>0.0</td>\n      <td>0.0</td>\n      <td>0.0</td>\n      <td>0.0</td>\n      <td>0.0</td>\n      <td>0.0</td>\n      <td>0.0</td>\n      <td>4.0</td>\n      <td>0.0</td>\n    </tr>\n    <tr>\n      <th>jl_zhanglin10</th>\n      <td>0.0</td>\n      <td>0.0</td>\n      <td>0.0</td>\n      <td>0.0</td>\n      <td>0.0</td>\n      <td>0.0</td>\n      <td>0.0</td>\n      <td>0.0</td>\n      <td>0.0</td>\n      <td>0.0</td>\n      <td>...</td>\n      <td>0.0</td>\n      <td>7.0</td>\n      <td>0.0</td>\n      <td>0.0</td>\n      <td>0.0</td>\n      <td>0.0</td>\n      <td>0.0</td>\n      <td>0.0</td>\n      <td>0.0</td>\n      <td>0.0</td>\n    </tr>\n    <tr>\n      <th>jl_zhangshuang25</th>\n      <td>0.0</td>\n      <td>0.0</td>\n      <td>0.0</td>\n      <td>0.0</td>\n      <td>0.0</td>\n      <td>0.0</td>\n      <td>0.0</td>\n      <td>0.0</td>\n      <td>0.0</td>\n      <td>0.0</td>\n      <td>...</td>\n      <td>0.0</td>\n      <td>0.0</td>\n      <td>0.0</td>\n      <td>0.0</td>\n      <td>0.0</td>\n      <td>0.0</td>\n      <td>0.0</td>\n      <td>0.0</td>\n      <td>0.0</td>\n      <td>0.0</td>\n    </tr>\n    <tr>\n      <th>jl_zhangxiuming</th>\n      <td>0.0</td>\n      <td>0.0</td>\n      <td>0.0</td>\n      <td>0.0</td>\n      <td>0.0</td>\n      <td>0.0</td>\n      <td>0.0</td>\n      <td>0.0</td>\n      <td>0.0</td>\n      <td>0.0</td>\n      <td>...</td>\n      <td>0.0</td>\n      <td>0.0</td>\n      <td>0.0</td>\n      <td>3.0</td>\n      <td>0.0</td>\n      <td>0.0</td>\n      <td>0.0</td>\n      <td>0.0</td>\n      <td>0.0</td>\n      <td>0.0</td>\n    </tr>\n    <tr>\n      <th>jl_zhenglijia</th>\n      <td>0.0</td>\n      <td>0.0</td>\n      <td>0.0</td>\n      <td>0.0</td>\n      <td>0.0</td>\n      <td>0.0</td>\n      <td>0.0</td>\n      <td>0.0</td>\n      <td>0.0</td>\n      <td>0.0</td>\n      <td>...</td>\n      <td>0.0</td>\n      <td>0.0</td>\n      <td>0.0</td>\n      <td>0.0</td>\n      <td>0.0</td>\n      <td>0.0</td>\n      <td>0.0</td>\n      <td>0.0</td>\n      <td>0.0</td>\n      <td>0.0</td>\n    </tr>\n  </tbody>\n</table>\n<p>23 rows × 28 columns</p>\n</div>"
     },
     "execution_count": 23,
     "metadata": {},
     "output_type": "execute_result"
    }
   ],
   "source": [
    "error_pivot_table"
   ],
   "metadata": {
    "collapsed": false,
    "ExecuteTime": {
     "end_time": "2025-09-05T04:56:41.247702400Z",
     "start_time": "2025-09-05T04:56:41.200218300Z"
    }
   },
   "id": "9ccc8ebf487d1250"
  },
  {
   "cell_type": "code",
   "execution_count": 24,
   "outputs": [
    {
     "data": {
      "text/plain": "                 文件名\n0  1-3 日志：主机操作日志.csv",
      "text/html": "<div>\n<style scoped>\n    .dataframe tbody tr th:only-of-type {\n        vertical-align: middle;\n    }\n\n    .dataframe tbody tr th {\n        vertical-align: top;\n    }\n\n    .dataframe thead th {\n        text-align: right;\n    }\n</style>\n<table border=\"1\" class=\"dataframe\">\n  <thead>\n    <tr style=\"text-align: right;\">\n      <th></th>\n      <th>文件名</th>\n    </tr>\n  </thead>\n  <tbody>\n    <tr>\n      <th>0</th>\n      <td>1-3 日志：主机操作日志.csv</td>\n    </tr>\n  </tbody>\n</table>\n</div>"
     },
     "execution_count": 24,
     "metadata": {},
     "output_type": "execute_result"
    }
   ],
   "source": [
    "pd.DataFrame({'文件名': {'0': '1-3 日志：主机操作日志.csv'}})"
   ],
   "metadata": {
    "collapsed": false,
    "ExecuteTime": {
     "end_time": "2025-09-05T05:11:17.227683700Z",
     "start_time": "2025-09-05T05:11:17.196160700Z"
    }
   },
   "id": "3569611d122c4cb2"
  },
  {
   "cell_type": "code",
   "execution_count": null,
   "outputs": [],
   "source": [],
   "metadata": {
    "collapsed": false
   },
   "id": "a452320e0c6b1d7d"
  }
 ],
 "metadata": {
  "kernelspec": {
   "display_name": "Python 3",
   "language": "python",
   "name": "python3"
  },
  "language_info": {
   "codemirror_mode": {
    "name": "ipython",
    "version": 2
   },
   "file_extension": ".py",
   "mimetype": "text/x-python",
   "name": "python",
   "nbconvert_exporter": "python",
   "pygments_lexer": "ipython2",
   "version": "2.7.6"
  }
 },
 "nbformat": 4,
 "nbformat_minor": 5
}
